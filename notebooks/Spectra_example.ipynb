{
 "cells": [
  {
   "cell_type": "code",
   "execution_count": null,
   "metadata": {},
   "outputs": [],
   "source": [
    "import numpy as np\n",
    "import xarray as xr\n",
    "import pandas as pd\n",
    "from xgcm.grid import Grid\n",
    "from dask.diagnostics import ProgressBar\n",
    "import xrft\n",
    "import gcsfs\n",
    "import matplotlib.pyplot as plt\n",
    "%matplotlib inline"
   ]
  },
  {
   "cell_type": "code",
   "execution_count": null,
   "metadata": {},
   "outputs": [],
   "source": [
    "import intake\n",
    "cat = intake.open_catalog(\"https://raw.githubusercontent.com/pangeo-data/pangeo-datastore/master/intake-catalogs/ocean/channel.yaml\")\n",
    "dsmon  = cat[\"MITgcm_channel_flatbottom_02km_run01_phys-mon\"].to_dask()\n",
    "dsmon"
   ]
  },
  {
   "cell_type": "code",
   "execution_count": null,
   "metadata": {},
   "outputs": [],
   "source": [
    "ds15d = cat.MITgcm_channel_flatbottom_02km_run01_phys_snap15D.to_dask()\n",
    "ds15d"
   ]
  },
  {
   "cell_type": "markdown",
   "metadata": {},
   "source": [
    "# Surface temperature field\n",
    "\n",
    "**Data starts from July 1**"
   ]
  },
  {
   "cell_type": "code",
   "execution_count": null,
   "metadata": {},
   "outputs": [],
   "source": [
    "date = 4"
   ]
  },
  {
   "cell_type": "code",
   "execution_count": null,
   "metadata": {},
   "outputs": [],
   "source": [
    "(ds15d['T'][date,0]-ds15d['T'][date,0].mean()).plot(figsize=(10,12), vmax=4.)"
   ]
  },
  {
   "cell_type": "markdown",
   "metadata": {},
   "source": [
    "# Relative vorticity ($\\zeta$)"
   ]
  },
  {
   "cell_type": "code",
   "execution_count": null,
   "metadata": {},
   "outputs": [],
   "source": [
    "grid = Grid(ds15d, periodic=['X'])"
   ]
  },
  {
   "cell_type": "code",
   "execution_count": null,
   "metadata": {},
   "outputs": [],
   "source": [
    "vx = grid.diff(ds15d.V*ds15d.dyC,'X') / ds15d.rAz\n",
    "uy = grid.diff(ds15d.U*ds15d.dxC,'Y',boundary='fill') / ds15d.rAz\n",
    "\n",
    "print(uy.coords, vx.coords)\n",
    "with ProgressBar():\n",
    "    zeta = (vx-uy)[date,0].compute()\n",
    "zeta"
   ]
  },
  {
   "cell_type": "code",
   "execution_count": null,
   "metadata": {},
   "outputs": [],
   "source": [
    "f0 = -1.1e-4\n",
    "beta = 1.4e-11\n",
    "cori = f0 + beta*(ds15d.YG-1e6)\n",
    "(zeta/cori).plot(figsize=(10,12), vmax=1., vmin=-1., cmap='RdBu_r')"
   ]
  },
  {
   "cell_type": "markdown",
   "metadata": {},
   "source": [
    "# KE zonal wavenumber spectra"
   ]
  },
  {
   "cell_type": "code",
   "execution_count": null,
   "metadata": {},
   "outputs": [],
   "source": [
    "dsmon.coords['seas'] = ('time',np.repeat(np.roll(range(4),-2),3))\n",
    "ds15d.coords['seas'] = ('time',np.append(np.repeat(np.roll(range(4),-2),6),1))\n",
    "dmsea = dsmon.groupby('seas').mean(['time','XC','XG'])\n",
    "\n",
    "up = (ds15d.U.groupby('seas') - dmsea.uVeltave)\n",
    "vp = (ds15d.V.groupby('seas') - dmsea.vVeltave)"
   ]
  },
  {
   "cell_type": "code",
   "execution_count": null,
   "metadata": {},
   "outputs": [],
   "source": [
    "uk2 = xrft.power_spectrum(grid.interp(up,'X').sel(YC=slice(6e5,14e5)).chunk(chunks={'XC':500}),\n",
    "                         dim=['XC'], detrend='constant')\n",
    "vk2 = xrft.power_spectrum(grid.interp(vp,'Y',boundary='fill').sel(YC=slice(6e5,14e5)\n",
    "                                                                 ).chunk(chunks={'XC':500}),\n",
    "                         dim=['XC'], detrend='constant')\n",
    "\n",
    "with ProgressBar():\n",
    "    kek = (uk2 + vk2)\n",
    "    kek.coords['seas'] = ('time',np.append(np.repeat(np.roll(range(4),-2),6),1))\n",
    "    kek_seas = kek.groupby('seas').mean('time').compute()"
   ]
  },
  {
   "cell_type": "code",
   "execution_count": null,
   "metadata": {},
   "outputs": [],
   "source": [
    "import matplotlib.ticker as tick\n",
    "\n",
    "fig, ax = plt.subplots(figsize=(6,5))\n",
    "fig.set_tight_layout(True)\n",
    "ax2 = ax.twinx()\n",
    "ax3 = ax.twiny()\n",
    "ax.plot(kek_seas.freq_XC[251:]*1e3, kek_seas[2,0,:,251:].mean(['YC']), 'b')\n",
    "ax.plot(kek_seas.freq_XC[251:]*1e3, kek_seas[0,0,:,251:].mean(['YC']), 'r')\n",
    "im, = ax2.plot(kek_seas.freq_XC[251:]*1e3, (kek_seas[2,0,:,251:]\n",
    "                                            /kek_seas[0,0,:,251:]).mean(['YC']), \n",
    "              'g')\n",
    "ax.set_xscale('log')\n",
    "ax.set_yscale('log')\n",
    "ax.set_xlim([1e-3,2.5e-1])\n",
    "ax.set_xticks([1e-3,1e-2,1e-1])\n",
    "ax.set_xticklabels([1e-3,1e-2,1e-1], fontsize=12)\n",
    "ax.set_ylim([4e-4,4e4])\n",
    "ax.set_yticks([1e-3,1e-1,1e1,1e3])\n",
    "ax.set_yticklabels([1e-3,1e-1,1e1,1e3], fontsize=12)\n",
    "ax.get_xaxis().set_major_formatter(tick.LogFormatterSciNotation())\n",
    "ax.get_yaxis().set_major_formatter(tick.LogFormatterSciNotation())\n",
    "ax2.set_ylim([0.8,5.])\n",
    "ax2.set_yticks([1.,2,3.,4,5.])\n",
    "ax2.set_yticklabels([1.,2.,3.,4.,5.], fontsize=14)\n",
    "ax2.spines[\"right\"].set_edgecolor(im.get_color())\n",
    "ax2.yaxis.label.set_color(im.get_color())\n",
    "ax2.tick_params(axis='y', colors=im.get_color())\n",
    "ax3.set_xscale('log')\n",
    "ax3.set_xlim([1e-3,2.5e-1])\n",
    "ax3.set_xticks([1e-3,1e-2,1e-1])\n",
    "ax3.set_xticklabels(np.asarray([1e3,1e2,1e1], dtype=int), fontsize=12)\n",
    "ax.set_xlabel(r'k [cpkm]', fontsize=14)\n",
    "ax.set_ylabel(r'[m$^3$ s$^{-2}$]', fontsize=14)\n",
    "ax2.set_ylabel(r'JAS/JFM', fontsize=14)\n",
    "ax3.set_xlabel(r'[km]', fontsize=14)"
   ]
  },
  {
   "cell_type": "code",
   "execution_count": null,
   "metadata": {},
   "outputs": [],
   "source": []
  }
 ],
 "metadata": {
  "kernelspec": {
   "display_name": "Python 3",
   "language": "python",
   "name": "python3"
  },
  "language_info": {
   "codemirror_mode": {
    "name": "ipython",
    "version": 3
   },
   "file_extension": ".py",
   "mimetype": "text/x-python",
   "name": "python",
   "nbconvert_exporter": "python",
   "pygments_lexer": "ipython3",
   "version": "3.7.6"
  }
 },
 "nbformat": 4,
 "nbformat_minor": 4
}
